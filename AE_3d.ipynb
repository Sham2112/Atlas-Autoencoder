{
  "nbformat": 4,
  "nbformat_minor": 0,
  "metadata": {
    "colab": {
      "name": "AE_3d.ipynb",
      "provenance": [],
      "collapsed_sections": [],
      "authorship_tag": "ABX9TyP2qceN3vXbDPrTdf5aWfjm"
    },
    "kernelspec": {
      "name": "python3",
      "display_name": "Python 3"
    },
    "accelerator": "GPU"
  },
  "cells": [
    {
      "cell_type": "code",
      "metadata": {
        "id": "815oIzH7HaRs",
        "colab_type": "code",
        "colab": {}
      },
      "source": [
        "import numpy as np\n",
        "import pandas as pd\n",
        "import matplotlib.pyplot as plt\n",
        "import pickle\n",
        "import torch\n",
        "import torch.nn as nn\n",
        "import torchvision\n",
        "import torch.optim as optim\n",
        "from torch.utils.data import DataLoader, TensorDataset\n",
        "from nn_utils import *"
      ],
      "execution_count": 0,
      "outputs": []
    },
    {
      "cell_type": "code",
      "metadata": {
        "id": "PQLjYm_MIQD0",
        "colab_type": "code",
        "colab": {}
      },
      "source": [
        "infile = open('all_jets_train_4D_100_percent.pkl', 'rb')\n",
        "traindata = pickle.load(infile)\n",
        "infile.close()"
      ],
      "execution_count": 0,
      "outputs": []
    },
    {
      "cell_type": "code",
      "metadata": {
        "id": "Y4Qnbc8oIV0J",
        "colab_type": "code",
        "colab": {}
      },
      "source": [
        "infile = open('all_jets_test_4D_100_percent.pkl', 'rb')\n",
        "testdata = pickle.load(infile)\n",
        "infile.close()"
      ],
      "execution_count": 0,
      "outputs": []
    },
    {
      "cell_type": "code",
      "metadata": {
        "id": "47whJKIvIY-h",
        "colab_type": "code",
        "colab": {}
      },
      "source": [
        "# Normalize\n",
        "train_mean = traindata.mean()\n",
        "train_std = traindata.std()\n",
        "\n",
        "traindata = (traindata - train_mean) / train_std\n",
        "testdata = (testdata - train_mean) / train_std"
      ],
      "execution_count": 0,
      "outputs": []
    },
    {
      "cell_type": "code",
      "metadata": {
        "id": "cz6IfuaiIuXJ",
        "colab_type": "code",
        "colab": {}
      },
      "source": [
        "train_x = traindata\n",
        "test_x = testdata\n",
        "train_y = train_x\n",
        "test_y = test_x\n",
        "\n",
        "trainset = TensorDataset(torch.tensor(train_x.values, dtype=torch.float), torch.tensor(train_y.values, dtype=torch.float))\n",
        "validset = TensorDataset(torch.tensor(test_x.values, dtype=torch.float), torch.tensor(test_y.values, dtype=torch.float))"
      ],
      "execution_count": 0,
      "outputs": []
    },
    {
      "cell_type": "code",
      "metadata": {
        "id": "R3Ept5eSIzxP",
        "colab_type": "code",
        "colab": {}
      },
      "source": [
        "trainloader = DataLoader(trainset, batch_size=32, shuffle=True)\n",
        "validloader = DataLoader(validset, batch_size=32, shuffle=False)"
      ],
      "execution_count": 0,
      "outputs": []
    },
    {
      "cell_type": "code",
      "metadata": {
        "id": "UtyKlAziiA8Z",
        "colab_type": "code",
        "outputId": "f15fd062-f43d-459a-c779-a686999f9ea5",
        "colab": {
          "base_uri": "https://localhost:8080/",
          "height": 34
        }
      },
      "source": [
        "if torch.cuda.is_available():\n",
        "    device = torch.device('cuda')\n",
        "else:\n",
        "    device = torch.device('cpu')\n",
        "\n",
        "print(\"Using: \", device)"
      ],
      "execution_count": 0,
      "outputs": [
        {
          "output_type": "stream",
          "text": [
            "Using:  cuda\n"
          ],
          "name": "stdout"
        }
      ]
    },
    {
      "cell_type": "code",
      "metadata": {
        "id": "ijmqldVtkQzI",
        "colab_type": "code",
        "colab": {}
      },
      "source": [
        "#Let's experiment with different Activation functions"
      ],
      "execution_count": 0,
      "outputs": []
    },
    {
      "cell_type": "code",
      "metadata": {
        "id": "q_EJ4zk6iEkv",
        "colab_type": "code",
        "colab": {}
      },
      "source": [
        "n_epochs = 40\n",
        "model_lr = AE_3d_LeakyReLU().to(device)\n",
        "criterion = nn.MSELoss()\n",
        "optimizer = optim.Adam(model_lr.parameters(), lr=1e-4)"
      ],
      "execution_count": 0,
      "outputs": []
    },
    {
      "cell_type": "code",
      "metadata": {
        "id": "wu0AvHdljhgA",
        "colab_type": "code",
        "outputId": "de7ae3a5-8e41-45c7-ebf8-5ca4255f9652",
        "colab": {
          "base_uri": "https://localhost:8080/",
          "height": 625
        }
      },
      "source": [
        "model_lr, train_losses, valid_losses = fit(n_epochs, criterion, optimizer, model_lr, trainloader, validloader, device)"
      ],
      "execution_count": 0,
      "outputs": [
        {
          "output_type": "stream",
          "text": [
            "Epoch: 1, Training loss: 0.04737720942419528, Validation loss: 0.03385604480526557\n",
            "Validation loss decreased (inf --> 0.03385604480526557).  Saving model ...\n",
            "Epoch: 2, Training loss: 0.032145200373069664, Validation loss: 0.03395677939509159\n",
            "Epoch: 3, Training loss: 0.032004250765460394, Validation loss: 0.03419821865609431\n",
            "Epoch: 4, Training loss: 0.032008536450397466, Validation loss: 0.033251363955101414\n",
            "Validation loss decreased (0.03385604480526557 --> 0.033251363955101414).  Saving model ...\n",
            "Epoch: 5, Training loss: 0.03195710942715846, Validation loss: 0.03373888754062099\n",
            "Epoch: 6, Training loss: 0.03188963315302253, Validation loss: 0.03348783044212709\n",
            "Epoch: 7, Training loss: 0.0319440913886156, Validation loss: 0.03344541272250786\n",
            "Epoch: 8, Training loss: 0.03184315889004115, Validation loss: 0.033346569161857874\n",
            "Epoch: 9, Training loss: 0.0318607146994722, Validation loss: 0.03331899858645677\n",
            "Epoch: 10, Training loss: 0.03185375364647804, Validation loss: 0.03339114297621988\n",
            "Epoch: 11, Training loss: 0.03185893759419571, Validation loss: 0.03339903406107274\n",
            "Epoch: 12, Training loss: 0.03183290709792774, Validation loss: 0.03329479194979356\n",
            "Epoch: 13, Training loss: 0.031836959155226836, Validation loss: 0.0336365890939607\n",
            "Epoch: 14, Training loss: 0.03182894498979834, Validation loss: 0.033416882674934374\n",
            "Epoch: 15, Training loss: 0.031803844042008284, Validation loss: 0.03331648444626864\n",
            "Epoch: 16, Training loss: 0.0318350901088342, Validation loss: 0.033259816796229025\n"
          ],
          "name": "stdout"
        },
        {
          "output_type": "error",
          "ename": "KeyboardInterrupt",
          "evalue": "ignored",
          "traceback": [
            "\u001b[0;31m---------------------------------------------------------------------------\u001b[0m",
            "\u001b[0;31mKeyboardInterrupt\u001b[0m                         Traceback (most recent call last)",
            "\u001b[0;32m<ipython-input-10-ec541ba4289b>\u001b[0m in \u001b[0;36m<module>\u001b[0;34m()\u001b[0m\n\u001b[0;32m----> 1\u001b[0;31m \u001b[0mmodel_lr\u001b[0m\u001b[0;34m,\u001b[0m \u001b[0mtrain_losses\u001b[0m\u001b[0;34m,\u001b[0m \u001b[0mvalid_losses\u001b[0m \u001b[0;34m=\u001b[0m \u001b[0mfit\u001b[0m\u001b[0;34m(\u001b[0m\u001b[0mn_epochs\u001b[0m\u001b[0;34m,\u001b[0m \u001b[0mcriterion\u001b[0m\u001b[0;34m,\u001b[0m \u001b[0moptimizer\u001b[0m\u001b[0;34m,\u001b[0m \u001b[0mmodel_lr\u001b[0m\u001b[0;34m,\u001b[0m \u001b[0mtrainloader\u001b[0m\u001b[0;34m,\u001b[0m \u001b[0mvalidloader\u001b[0m\u001b[0;34m,\u001b[0m \u001b[0mdevice\u001b[0m\u001b[0;34m)\u001b[0m\u001b[0;34m\u001b[0m\u001b[0;34m\u001b[0m\u001b[0m\n\u001b[0m",
            "\u001b[0;32m/content/nn_utils.py\u001b[0m in \u001b[0;36mfit\u001b[0;34m(n_epochs, criterion, optimizer, model, trainloader, validloader, device)\u001b[0m\n\u001b[1;32m    353\u001b[0m             \u001b[0my_hat\u001b[0m \u001b[0;34m=\u001b[0m \u001b[0mmodel\u001b[0m\u001b[0;34m(\u001b[0m\u001b[0mx\u001b[0m\u001b[0;34m)\u001b[0m\u001b[0;34m\u001b[0m\u001b[0;34m\u001b[0m\u001b[0m\n\u001b[1;32m    354\u001b[0m             \u001b[0mloss\u001b[0m \u001b[0;34m=\u001b[0m \u001b[0mcriterion\u001b[0m\u001b[0;34m(\u001b[0m\u001b[0my_hat\u001b[0m\u001b[0;34m,\u001b[0m \u001b[0my\u001b[0m\u001b[0;34m)\u001b[0m\u001b[0;34m\u001b[0m\u001b[0;34m\u001b[0m\u001b[0m\n\u001b[0;32m--> 355\u001b[0;31m             \u001b[0mloss\u001b[0m\u001b[0;34m.\u001b[0m\u001b[0mbackward\u001b[0m\u001b[0;34m(\u001b[0m\u001b[0;34m)\u001b[0m\u001b[0;34m\u001b[0m\u001b[0;34m\u001b[0m\u001b[0m\n\u001b[0m\u001b[1;32m    356\u001b[0m             \u001b[0moptimizer\u001b[0m\u001b[0;34m.\u001b[0m\u001b[0mstep\u001b[0m\u001b[0;34m(\u001b[0m\u001b[0;34m)\u001b[0m\u001b[0;34m\u001b[0m\u001b[0;34m\u001b[0m\u001b[0m\n\u001b[1;32m    357\u001b[0m             \u001b[0mrunning_train_loss\u001b[0m \u001b[0;34m+=\u001b[0m \u001b[0mloss\u001b[0m\u001b[0;34m.\u001b[0m\u001b[0mitem\u001b[0m\u001b[0;34m(\u001b[0m\u001b[0;34m)\u001b[0m\u001b[0;34m\u001b[0m\u001b[0;34m\u001b[0m\u001b[0m\n",
            "\u001b[0;32m/usr/local/lib/python3.6/dist-packages/torch/tensor.py\u001b[0m in \u001b[0;36mbackward\u001b[0;34m(self, gradient, retain_graph, create_graph)\u001b[0m\n\u001b[1;32m    193\u001b[0m                 \u001b[0mproducts\u001b[0m\u001b[0;34m.\u001b[0m \u001b[0mDefaults\u001b[0m \u001b[0mto\u001b[0m\u001b[0;31m \u001b[0m\u001b[0;31m`\u001b[0m\u001b[0;31m`\u001b[0m\u001b[0;32mFalse\u001b[0m\u001b[0;31m`\u001b[0m\u001b[0;31m`\u001b[0m\u001b[0;34m.\u001b[0m\u001b[0;34m\u001b[0m\u001b[0;34m\u001b[0m\u001b[0m\n\u001b[1;32m    194\u001b[0m         \"\"\"\n\u001b[0;32m--> 195\u001b[0;31m         \u001b[0mtorch\u001b[0m\u001b[0;34m.\u001b[0m\u001b[0mautograd\u001b[0m\u001b[0;34m.\u001b[0m\u001b[0mbackward\u001b[0m\u001b[0;34m(\u001b[0m\u001b[0mself\u001b[0m\u001b[0;34m,\u001b[0m \u001b[0mgradient\u001b[0m\u001b[0;34m,\u001b[0m \u001b[0mretain_graph\u001b[0m\u001b[0;34m,\u001b[0m \u001b[0mcreate_graph\u001b[0m\u001b[0;34m)\u001b[0m\u001b[0;34m\u001b[0m\u001b[0;34m\u001b[0m\u001b[0m\n\u001b[0m\u001b[1;32m    196\u001b[0m \u001b[0;34m\u001b[0m\u001b[0m\n\u001b[1;32m    197\u001b[0m     \u001b[0;32mdef\u001b[0m \u001b[0mregister_hook\u001b[0m\u001b[0;34m(\u001b[0m\u001b[0mself\u001b[0m\u001b[0;34m,\u001b[0m \u001b[0mhook\u001b[0m\u001b[0;34m)\u001b[0m\u001b[0;34m:\u001b[0m\u001b[0;34m\u001b[0m\u001b[0;34m\u001b[0m\u001b[0m\n",
            "\u001b[0;32m/usr/local/lib/python3.6/dist-packages/torch/autograd/__init__.py\u001b[0m in \u001b[0;36mbackward\u001b[0;34m(tensors, grad_tensors, retain_graph, create_graph, grad_variables)\u001b[0m\n\u001b[1;32m     97\u001b[0m     Variable._execution_engine.run_backward(\n\u001b[1;32m     98\u001b[0m         \u001b[0mtensors\u001b[0m\u001b[0;34m,\u001b[0m \u001b[0mgrad_tensors\u001b[0m\u001b[0;34m,\u001b[0m \u001b[0mretain_graph\u001b[0m\u001b[0;34m,\u001b[0m \u001b[0mcreate_graph\u001b[0m\u001b[0;34m,\u001b[0m\u001b[0;34m\u001b[0m\u001b[0;34m\u001b[0m\u001b[0m\n\u001b[0;32m---> 99\u001b[0;31m         allow_unreachable=True)  # allow_unreachable flag\n\u001b[0m\u001b[1;32m    100\u001b[0m \u001b[0;34m\u001b[0m\u001b[0m\n\u001b[1;32m    101\u001b[0m \u001b[0;34m\u001b[0m\u001b[0m\n",
            "\u001b[0;31mKeyboardInterrupt\u001b[0m: "
          ]
        }
      ]
    },
    {
      "cell_type": "code",
      "metadata": {
        "id": "CWEEn4DUI1rl",
        "colab_type": "code",
        "colab": {}
      },
      "source": [
        "#We see that Leaky ReLU does not improve performance"
      ],
      "execution_count": 0,
      "outputs": []
    },
    {
      "cell_type": "code",
      "metadata": {
        "id": "_q-RaIfrkm2x",
        "colab_type": "code",
        "colab": {}
      },
      "source": [
        "torch.save(model_lr.state_dict(), 'model_lr.pt')"
      ],
      "execution_count": 0,
      "outputs": []
    },
    {
      "cell_type": "code",
      "metadata": {
        "id": "0UhQJ91Ysmh7",
        "colab_type": "code",
        "colab": {}
      },
      "source": [
        "model_th = AE_3d_tanh().to(device)\n",
        "criterion = nn.MSELoss()\n",
        "optimizer = optim.Adam(model_th.parameters(), lr=1e-4)"
      ],
      "execution_count": 0,
      "outputs": []
    },
    {
      "cell_type": "code",
      "metadata": {
        "id": "SxamSvaQtDWo",
        "colab_type": "code",
        "outputId": "6d2e539f-fea0-48fa-88ba-1344d6762fff",
        "colab": {
          "base_uri": "https://localhost:8080/",
          "height": 1000
        }
      },
      "source": [
        "model_th, train_losses, valid_losses = fit(n_epochs, criterion, optimizer, model_th, trainloader, validloader, device)"
      ],
      "execution_count": 0,
      "outputs": [
        {
          "output_type": "stream",
          "text": [
            "Epoch: 1, Training loss: 0.05849870507425187, Validation loss: 0.03541364198421646\n",
            "Validation loss decreased (inf --> 0.03541364198421646).  Saving model ...\n",
            "Epoch: 2, Training loss: 0.03124683652331431, Validation loss: 0.03298726030790569\n",
            "Validation loss decreased (0.03541364198421646 --> 0.03298726030790569).  Saving model ...\n",
            "Epoch: 3, Training loss: 0.029929853972241082, Validation loss: 0.03166826735506392\n",
            "Validation loss decreased (0.03298726030790569 --> 0.03166826735506392).  Saving model ...\n",
            "Epoch: 4, Training loss: 0.029328589698203275, Validation loss: 0.031121559729863562\n",
            "Validation loss decreased (0.03166826735506392 --> 0.031121559729863562).  Saving model ...\n",
            "Epoch: 5, Training loss: 0.02860502177857675, Validation loss: 0.030253067324007274\n",
            "Validation loss decreased (0.031121559729863562 --> 0.030253067324007274).  Saving model ...\n",
            "Epoch: 6, Training loss: 0.026796107215401155, Validation loss: 0.02629162068505403\n",
            "Validation loss decreased (0.030253067324007274 --> 0.02629162068505403).  Saving model ...\n",
            "Epoch: 7, Training loss: 0.02379963970394607, Validation loss: 0.02374988780474158\n",
            "Validation loss decreased (0.02629162068505403 --> 0.02374988780474158).  Saving model ...\n",
            "Epoch: 8, Training loss: 0.022187488882388744, Validation loss: 0.02257900037248651\n",
            "Validation loss decreased (0.02374988780474158 --> 0.02257900037248651).  Saving model ...\n",
            "Epoch: 9, Training loss: 0.021471014748189896, Validation loss: 0.022240746172797147\n",
            "Validation loss decreased (0.02257900037248651 --> 0.022240746172797147).  Saving model ...\n",
            "Epoch: 10, Training loss: 0.020823143862634532, Validation loss: 0.021440502558648374\n",
            "Validation loss decreased (0.022240746172797147 --> 0.021440502558648374).  Saving model ...\n",
            "Epoch: 11, Training loss: 0.02015685235882102, Validation loss: 0.021558295184686712\n",
            "Epoch: 12, Training loss: 0.019618256009835803, Validation loss: 0.022289747819815946\n",
            "Epoch: 13, Training loss: 0.018942590499075283, Validation loss: 0.019325917549521898\n",
            "Validation loss decreased (0.021440502558648374 --> 0.019325917549521898).  Saving model ...\n",
            "Epoch: 14, Training loss: 0.018520861942821907, Validation loss: 0.020539317925533096\n",
            "Epoch: 15, Training loss: 0.017904445147643926, Validation loss: 0.019500831647821886\n",
            "Epoch: 16, Training loss: 0.017413519970086708, Validation loss: 0.017919278479590416\n",
            "Validation loss decreased (0.019325917549521898 --> 0.017919278479590416).  Saving model ...\n",
            "Epoch: 17, Training loss: 0.01699573950583204, Validation loss: 0.017019666963389028\n",
            "Validation loss decreased (0.017919278479590416 --> 0.017019666963389028).  Saving model ...\n",
            "Epoch: 18, Training loss: 0.016549271552193896, Validation loss: 0.017707613362873173\n",
            "Epoch: 19, Training loss: 0.016602647742155235, Validation loss: 0.016511653756959368\n",
            "Validation loss decreased (0.017019666963389028 --> 0.016511653756959368).  Saving model ...\n",
            "Epoch: 20, Training loss: 0.01614559715729072, Validation loss: 0.01608169232191437\n",
            "Validation loss decreased (0.016511653756959368 --> 0.01608169232191437).  Saving model ...\n",
            "Epoch: 21, Training loss: 0.015717072040568953, Validation loss: 0.01614657086288254\n",
            "Epoch: 22, Training loss: 0.015513583376136586, Validation loss: 0.015102884211115011\n",
            "Validation loss decreased (0.01608169232191437 --> 0.015102884211115011).  Saving model ...\n",
            "Epoch: 23, Training loss: 0.014931458172601081, Validation loss: 0.015220670172975567\n",
            "Epoch: 24, Training loss: 0.015289699319467795, Validation loss: 0.015144412078920248\n",
            "Epoch: 25, Training loss: 0.014620462178182535, Validation loss: 0.015639495504945432\n",
            "Epoch: 26, Training loss: 0.014442008884537885, Validation loss: 0.014459097222744719\n",
            "Validation loss decreased (0.015102884211115011 --> 0.014459097222744719).  Saving model ...\n",
            "Epoch: 27, Training loss: 0.014324274422041379, Validation loss: 0.014882719450314833\n",
            "Epoch: 28, Training loss: 0.01410683408501101, Validation loss: 0.01413326788130504\n",
            "Validation loss decreased (0.014459097222744719 --> 0.01413326788130504).  Saving model ...\n",
            "Epoch: 29, Training loss: 0.013991647513062066, Validation loss: 0.014612920851754642\n",
            "Epoch: 30, Training loss: 0.013882147011195315, Validation loss: 0.01469385678409993\n",
            "Epoch: 31, Training loss: 0.013681203055105683, Validation loss: 0.014186067347898568\n",
            "Epoch: 32, Training loss: 0.013522172385294141, Validation loss: 0.013985809626311354\n",
            "Validation loss decreased (0.01413326788130504 --> 0.013985809626311354).  Saving model ...\n",
            "Epoch: 33, Training loss: 0.013540036736843062, Validation loss: 0.014123040320963367\n",
            "Epoch: 34, Training loss: 0.01320431156456577, Validation loss: 0.01383778077440477\n",
            "Validation loss decreased (0.013985809626311354 --> 0.01383778077440477).  Saving model ...\n",
            "Epoch: 35, Training loss: 0.012935380741419951, Validation loss: 0.014252328178158042\n",
            "Epoch: 36, Training loss: 0.013131741111394807, Validation loss: 0.013532452547157639\n",
            "Validation loss decreased (0.01383778077440477 --> 0.013532452547157639).  Saving model ...\n",
            "Epoch: 37, Training loss: 0.012812355338494785, Validation loss: 0.01287584014058974\n",
            "Validation loss decreased (0.013532452547157639 --> 0.01287584014058974).  Saving model ...\n",
            "Epoch: 38, Training loss: 0.0127529940010923, Validation loss: 0.012919127211870851\n",
            "Epoch: 39, Training loss: 0.012731806907651421, Validation loss: 0.01297662460985242\n",
            "Epoch: 40, Training loss: 0.012600652711587501, Validation loss: 0.012987345799130284\n"
          ],
          "name": "stdout"
        }
      ]
    },
    {
      "cell_type": "code",
      "metadata": {
        "id": "tu4fmyDmL_kE",
        "colab_type": "code",
        "colab": {}
      },
      "source": [
        "#Tanh activation function also performed really well"
      ],
      "execution_count": 0,
      "outputs": []
    },
    {
      "cell_type": "code",
      "metadata": {
        "id": "a0YgN2_wwsWN",
        "colab_type": "code",
        "colab": {}
      },
      "source": [
        "torch.save(model_th.state_dict(), 'model_th.pt')"
      ],
      "execution_count": 0,
      "outputs": []
    },
    {
      "cell_type": "code",
      "metadata": {
        "id": "-IPPyL831wha",
        "colab_type": "code",
        "outputId": "3639a193-efe5-434b-8c74-c9a23c5328d9",
        "colab": {
          "base_uri": "https://localhost:8080/",
          "height": 266
        }
      },
      "source": [
        "plt.plot(train_losses)\n",
        "plt.plot(valid_losses)\n",
        "plt.show()"
      ],
      "execution_count": 0,
      "outputs": [
        {
          "output_type": "display_data",
          "data": {
            "image/png": "[encoded data removed]",
            "text/plain": [
              "<Figure size 432x288 with 1 Axes>"
            ]
          },
          "metadata": {
            "tags": []
          }
        }
      ]
    },
    {
      "cell_type": "code",
      "metadata": {
        "id": "F__gRsmoKbL0",
        "colab_type": "code",
        "colab": {}
      },
      "source": [
        "#Now lets try different architectures"
      ],
      "execution_count": 0,
      "outputs": []
    },
    {
      "cell_type": "code",
      "metadata": {
        "id": "AGxI7ehNMs1m",
        "colab_type": "code",
        "colab": {}
      },
      "source": [
        "model_small = AE_3d_small().to(device)\n",
        "criterion = nn.MSELoss()\n",
        "optimizer = optim.Adam(model_small.parameters(), lr=1e-4)"
      ],
      "execution_count": 0,
      "outputs": []
    },
    {
      "cell_type": "code",
      "metadata": {
        "id": "tKvGVwUtM5mu",
        "colab_type": "code",
        "outputId": "d4653114-d453-4de1-cc8b-4703310081bf",
        "colab": {
          "base_uri": "https://localhost:8080/",
          "height": 1000
        }
      },
      "source": [
        "model_small, train_losses, valid_losses = fit(n_epochs, criterion, optimizer, model_small, trainloader, validloader, device)"
      ],
      "execution_count": 0,
      "outputs": [
        {
          "output_type": "stream",
          "text": [
            "Epoch: 1, Training loss: 0.17710668407963656, Validation loss: 0.030805615813991383\n",
            "Validation loss decreased (inf --> 0.030805615813991383).  Saving model ...\n",
            "Epoch: 2, Training loss: 0.027755664099307978, Validation loss: 0.02840226312254255\n",
            "Validation loss decreased (0.030805615813991383 --> 0.02840226312254255).  Saving model ...\n",
            "Epoch: 3, Training loss: 0.026086107265687577, Validation loss: 0.027074122823134397\n",
            "Validation loss decreased (0.02840226312254255 --> 0.027074122823134397).  Saving model ...\n",
            "Epoch: 4, Training loss: 0.025074016619550995, Validation loss: 0.02635261500430095\n",
            "Validation loss decreased (0.027074122823134397 --> 0.02635261500430095).  Saving model ...\n",
            "Epoch: 5, Training loss: 0.024134598104290545, Validation loss: 0.024824739062734528\n",
            "Validation loss decreased (0.02635261500430095 --> 0.024824739062734528).  Saving model ...\n",
            "Epoch: 6, Training loss: 0.023247901240508188, Validation loss: 0.023684522139576628\n",
            "Validation loss decreased (0.024824739062734528 --> 0.023684522139576628).  Saving model ...\n",
            "Epoch: 7, Training loss: 0.02240726606748004, Validation loss: 0.022659154585003213\n",
            "Validation loss decreased (0.023684522139576628 --> 0.022659154585003213).  Saving model ...\n",
            "Epoch: 8, Training loss: 0.021727843389355402, Validation loss: 0.021829228884315658\n",
            "Validation loss decreased (0.022659154585003213 --> 0.021829228884315658).  Saving model ...\n",
            "Epoch: 9, Training loss: 0.021251360858777515, Validation loss: 0.021243536288879847\n",
            "Validation loss decreased (0.021829228884315658 --> 0.021243536288879847).  Saving model ...\n",
            "Epoch: 10, Training loss: 0.020851809889259127, Validation loss: 0.021138884557770177\n",
            "Validation loss decreased (0.021243536288879847 --> 0.021138884557770177).  Saving model ...\n",
            "Epoch: 11, Training loss: 0.02053800798028587, Validation loss: 0.020722754372899724\n",
            "Validation loss decreased (0.021138884557770177 --> 0.020722754372899724).  Saving model ...\n",
            "Epoch: 12, Training loss: 0.020225882722494263, Validation loss: 0.02026467621542228\n",
            "Validation loss decreased (0.020722754372899724 --> 0.02026467621542228).  Saving model ...\n",
            "Epoch: 13, Training loss: 0.019922785421866183, Validation loss: 0.020200294445938\n",
            "Validation loss decreased (0.02026467621542228 --> 0.020200294445938).  Saving model ...\n",
            "Epoch: 14, Training loss: 0.019603031836539393, Validation loss: 0.019720128656272273\n",
            "Validation loss decreased (0.020200294445938 --> 0.019720128656272273).  Saving model ...\n",
            "Epoch: 15, Training loss: 0.0193671232368144, Validation loss: 0.019313363681917103\n",
            "Validation loss decreased (0.019720128656272273 --> 0.019313363681917103).  Saving model ...\n",
            "Epoch: 16, Training loss: 0.019092049543790728, Validation loss: 0.018952417270774853\n",
            "Validation loss decreased (0.019313363681917103 --> 0.018952417270774853).  Saving model ...\n",
            "Epoch: 17, Training loss: 0.018781413732247287, Validation loss: 0.01881044728759233\n",
            "Validation loss decreased (0.018952417270774853 --> 0.01881044728759233).  Saving model ...\n",
            "Epoch: 18, Training loss: 0.018503442464826617, Validation loss: 0.01835327663829708\n",
            "Validation loss decreased (0.01881044728759233 --> 0.01835327663829708).  Saving model ...\n",
            "Epoch: 19, Training loss: 0.01824424339360523, Validation loss: 0.018083814483346925\n",
            "Validation loss decreased (0.01835327663829708 --> 0.018083814483346925).  Saving model ...\n",
            "Epoch: 20, Training loss: 0.017994572647225378, Validation loss: 0.01780585955694697\n",
            "Validation loss decreased (0.018083814483346925 --> 0.01780585955694697).  Saving model ...\n",
            "Epoch: 21, Training loss: 0.017761725991133775, Validation loss: 0.018120182728452408\n",
            "Epoch: 22, Training loss: 0.017547532558743296, Validation loss: 0.01765266104584807\n",
            "Validation loss decreased (0.01780585955694697 --> 0.01765266104584807).  Saving model ...\n",
            "Epoch: 23, Training loss: 0.017301097902323134, Validation loss: 0.01709679158183893\n",
            "Validation loss decreased (0.01765266104584807 --> 0.01709679158183893).  Saving model ...\n",
            "Epoch: 24, Training loss: 0.0171251771371598, Validation loss: 0.016866082131640998\n",
            "Validation loss decreased (0.01709679158183893 --> 0.016866082131640998).  Saving model ...\n",
            "Epoch: 25, Training loss: 0.016926043923769247, Validation loss: 0.01682602695375361\n",
            "Validation loss decreased (0.016866082131640998 --> 0.01682602695375361).  Saving model ...\n",
            "Epoch: 26, Training loss: 0.016739995647024556, Validation loss: 0.016628007812093032\n",
            "Validation loss decreased (0.01682602695375361 --> 0.016628007812093032).  Saving model ...\n",
            "Epoch: 27, Training loss: 0.01657848400071143, Validation loss: 0.016389266992183894\n",
            "Validation loss decreased (0.016628007812093032 --> 0.016389266992183894).  Saving model ...\n",
            "Epoch: 28, Training loss: 0.016394415874706938, Validation loss: 0.016496142042423566\n",
            "Epoch: 29, Training loss: 0.01623028844650631, Validation loss: 0.016299888648538163\n",
            "Validation loss decreased (0.016389266992183894 --> 0.016299888648538163).  Saving model ...\n",
            "Epoch: 30, Training loss: 0.016082774237444235, Validation loss: 0.016274281943406594\n",
            "Validation loss decreased (0.016299888648538163 --> 0.016274281943406594).  Saving model ...\n",
            "Epoch: 31, Training loss: 0.01594812840034779, Validation loss: 0.01580079334859419\n",
            "Validation loss decreased (0.016274281943406594 --> 0.01580079334859419).  Saving model ...\n",
            "Epoch: 32, Training loss: 0.01579987386942046, Validation loss: 0.016010464173347373\n",
            "Epoch: 33, Training loss: 0.015662246470055187, Validation loss: 0.0156529155512952\n",
            "Validation loss decreased (0.01580079334859419 --> 0.0156529155512952).  Saving model ...\n",
            "Epoch: 34, Training loss: 0.015521049592762258, Validation loss: 0.015490111765836406\n",
            "Validation loss decreased (0.0156529155512952 --> 0.015490111765836406).  Saving model ...\n",
            "Epoch: 35, Training loss: 0.01536286218047465, Validation loss: 0.015349438418772763\n",
            "Validation loss decreased (0.015490111765836406 --> 0.015349438418772763).  Saving model ...\n",
            "Epoch: 36, Training loss: 0.015291125591712112, Validation loss: 0.015252704014847145\n",
            "Validation loss decreased (0.015349438418772763 --> 0.015252704014847145).  Saving model ...\n",
            "Epoch: 37, Training loss: 0.015162790466900158, Validation loss: 0.0152693538312764\n",
            "Epoch: 38, Training loss: 0.015061871927485706, Validation loss: 0.015006308112846522\n",
            "Validation loss decreased (0.015252704014847145 --> 0.015006308112846522).  Saving model ...\n",
            "Epoch: 39, Training loss: 0.014958734172853493, Validation loss: 0.01509721151252599\n",
            "Epoch: 40, Training loss: 0.014861871169585046, Validation loss: 0.015171914373804737\n"
          ],
          "name": "stdout"
        }
      ]
    },
    {
      "cell_type": "code",
      "metadata": {
        "id": "TB9qhYNxPhp3",
        "colab_type": "code",
        "colab": {}
      },
      "source": [
        "#This smalled model also achieved pretty good results but worse than the baseline model, so maybe a model of greater complexity would perform better? "
      ],
      "execution_count": 0,
      "outputs": []
    },
    {
      "cell_type": "code",
      "metadata": {
        "id": "7UgFNebhND35",
        "colab_type": "code",
        "colab": {}
      },
      "source": [
        "torch.save(model_small.state_dict(), 'model_small.pt')"
      ],
      "execution_count": 0,
      "outputs": []
    },
    {
      "cell_type": "code",
      "metadata": {
        "id": "vrh2jFa6Pg8G",
        "colab_type": "code",
        "colab": {}
      },
      "source": [
        "model_big = AE_3d_big().to(device)\n",
        "criterion = nn.MSELoss()\n",
        "optimizer = optim.Adam(model_big.parameters(), lr=1e-4)"
      ],
      "execution_count": 0,
      "outputs": []
    },
    {
      "cell_type": "code",
      "metadata": {
        "id": "Zo-wGgPFP03S",
        "colab_type": "code",
        "outputId": "e37d9e35-dcd1-453d-e06f-3d30be3e62c9",
        "colab": {
          "base_uri": "https://localhost:8080/",
          "height": 434
        }
      },
      "source": [
        "model_big, train_losses, valid_losses = fit(n_epochs, criterion, optimizer, model_big, trainloader, validloader, device)"
      ],
      "execution_count": 0,
      "outputs": [
        {
          "output_type": "stream",
          "text": [
            "Epoch: 1, Training loss: 0.06686789453455845, Validation loss: 0.03182895383232825\n",
            "Validation loss decreased (inf --> 0.03182895383232825).  Saving model ...\n",
            "Epoch: 2, Training loss: 0.026116360132179998, Validation loss: 0.023640787257179958\n",
            "Validation loss decreased (0.03182895383232825 --> 0.023640787257179958).  Saving model ...\n",
            "Epoch: 3, Training loss: 0.022103866256915277, Validation loss: 0.024467275853565035\n",
            "Epoch: 4, Training loss: 0.01905563269704783, Validation loss: 0.01674901589312222\n",
            "Validation loss decreased (0.023640787257179958 --> 0.01674901589312222).  Saving model ...\n",
            "Epoch: 5, Training loss: 0.016778915509598626, Validation loss: 0.016857386842951842\n",
            "Epoch: 6, Training loss: 0.015516083798461616, Validation loss: 0.017356750740215726\n",
            "Epoch: 7, Training loss: 0.01433839823358437, Validation loss: 0.014413835553801884\n",
            "Validation loss decreased (0.01674901589312222 --> 0.014413835553801884).  Saving model ...\n",
            "Epoch: 8, Training loss: 0.01425435375523528, Validation loss: 0.014099290678373514\n",
            "Validation loss decreased (0.014413835553801884 --> 0.014099290678373514).  Saving model ...\n",
            "Epoch: 9, Training loss: 0.013227589133921393, Validation loss: 0.013533939716397643\n",
            "Validation loss decreased (0.014099290678373514 --> 0.013533939716397643).  Saving model ...\n",
            "Epoch: 10, Training loss: 0.012859938184503608, Validation loss: 0.011776962652120491\n",
            "Validation loss decreased (0.013533939716397643 --> 0.011776962652120491).  Saving model ...\n",
            "Epoch: 11, Training loss: 0.01238716750934962, Validation loss: 0.011823604869852332\n",
            "Epoch: 12, Training loss: 0.011670430622604139, Validation loss: 0.011595260090161609\n",
            "Validation loss decreased (0.011776962652120491 --> 0.011595260090161609).  Saving model ...\n",
            "Epoch: 13, Training loss: 0.011335875266913962, Validation loss: 0.01146259517046608\n",
            "Validation loss decreased (0.011595260090161609 --> 0.01146259517046608).  Saving model ...\n",
            "Epoch: 14, Training loss: 0.010462704813907495, Validation loss: 0.010448110331296367\n",
            "Validation loss decreased (0.01146259517046608 --> 0.010448110331296367).  Saving model ...\n"
          ],
          "name": "stdout"
        }
      ]
    },
    {
      "cell_type": "code",
      "metadata": {
        "id": "GRVirEIXUQrC",
        "colab_type": "code",
        "colab": {}
      },
      "source": [
        "#Lets add some regularization techniques"
      ],
      "execution_count": 0,
      "outputs": []
    },
    {
      "cell_type": "code",
      "metadata": {
        "id": "B_1CbdR6P76F",
        "colab_type": "code",
        "colab": {}
      },
      "source": [
        "model_drop = AE_3d_dropout().to(device)\n",
        "criterion = nn.MSELoss()\n",
        "optimizer = optim.Adam(model_drop.parameters(), lr=1e-3)"
      ],
      "execution_count": 0,
      "outputs": []
    },
    {
      "cell_type": "code",
      "metadata": {
        "id": "zIIZoM7rU-2X",
        "colab_type": "code",
        "colab": {
          "base_uri": "https://localhost:8080/",
          "height": 903
        },
        "outputId": "96ed011c-e5dd-4009-b67a-e844fd535151"
      },
      "source": [
        "model_drop, train_losses, valid_losses = fit(n_epochs, criterion, optimizer, model_drop, trainloader, validloader, device)"
      ],
      "execution_count": 34,
      "outputs": [
        {
          "output_type": "stream",
          "text": [
            "Epoch: 1, Training loss: 0.06082287816193251, Validation loss: 0.06159507606425738\n",
            "Validation loss decreased (inf --> 0.06159507606425738).  Saving model ...\n",
            "Epoch: 2, Training loss: 0.059425745752192796, Validation loss: 0.05868726400594553\n",
            "Validation loss decreased (0.06159507606425738 --> 0.05868726400594553).  Saving model ...\n",
            "Epoch: 3, Training loss: 0.05927781391735325, Validation loss: 0.058136902046251354\n",
            "Validation loss decreased (0.05868726400594553 --> 0.058136902046251354).  Saving model ...\n",
            "Epoch: 4, Training loss: 0.05823421736984046, Validation loss: 0.06268306017706268\n",
            "Epoch: 5, Training loss: 0.058485257863128394, Validation loss: 0.058547373481725666\n",
            "Epoch: 6, Training loss: 0.05761674193225046, Validation loss: 0.06354420577352803\n",
            "Epoch: 7, Training loss: 0.0578907986379985, Validation loss: 0.05712435303098209\n",
            "Validation loss decreased (0.058136902046251354 --> 0.05712435303098209).  Saving model ...\n",
            "Epoch: 8, Training loss: 0.05738225295067124, Validation loss: 0.05814117955542607\n",
            "Epoch: 9, Training loss: 0.056672777527965644, Validation loss: 0.06020715325704224\n",
            "Epoch: 10, Training loss: 0.05688394595984568, Validation loss: 0.05602967054785594\n",
            "Validation loss decreased (0.05712435303098209 --> 0.05602967054785594).  Saving model ...\n",
            "Epoch: 11, Training loss: 0.05648696183162498, Validation loss: 0.059949578257017605\n",
            "Epoch: 12, Training loss: 0.057547849262880646, Validation loss: 0.05782054283696672\n",
            "Epoch: 13, Training loss: 0.055931440227770024, Validation loss: 0.05676350722758598\n",
            "Epoch: 14, Training loss: 0.05696884255363693, Validation loss: 0.06609513501059136\n",
            "Epoch: 15, Training loss: 0.056906752355511896, Validation loss: 0.05698908042179706\n",
            "Epoch: 16, Training loss: 0.05589217200777192, Validation loss: 0.057355848569380335\n",
            "Epoch: 17, Training loss: 0.055093311940058086, Validation loss: 0.05653304458985817\n",
            "Epoch: 18, Training loss: 0.055230248823941064, Validation loss: 0.05868973132879292\n",
            "Epoch: 19, Training loss: 0.05531411471818779, Validation loss: 0.05665437050283092\n",
            "Epoch: 20, Training loss: 0.05404863975042265, Validation loss: 0.06340741127030391\n",
            "Epoch: 21, Training loss: 0.05472231969668071, Validation loss: 0.05526930012141335\n",
            "Validation loss decreased (0.05602967054785594 --> 0.05526930012141335).  Saving model ...\n"
          ],
          "name": "stdout"
        },
        {
          "output_type": "error",
          "ename": "KeyboardInterrupt",
          "evalue": "ignored",
          "traceback": [
            "\u001b[0;31m---------------------------------------------------------------------------\u001b[0m",
            "\u001b[0;31mKeyboardInterrupt\u001b[0m                         Traceback (most recent call last)",
            "\u001b[0;32m<ipython-input-34-ead35331fba0>\u001b[0m in \u001b[0;36m<module>\u001b[0;34m()\u001b[0m\n\u001b[0;32m----> 1\u001b[0;31m \u001b[0mmodel_drop\u001b[0m\u001b[0;34m,\u001b[0m \u001b[0mtrain_losses\u001b[0m\u001b[0;34m,\u001b[0m \u001b[0mvalid_losses\u001b[0m \u001b[0;34m=\u001b[0m \u001b[0mfit\u001b[0m\u001b[0;34m(\u001b[0m\u001b[0mn_epochs\u001b[0m\u001b[0;34m,\u001b[0m \u001b[0mcriterion\u001b[0m\u001b[0;34m,\u001b[0m \u001b[0moptimizer\u001b[0m\u001b[0;34m,\u001b[0m \u001b[0mmodel_drop\u001b[0m\u001b[0;34m,\u001b[0m \u001b[0mtrainloader\u001b[0m\u001b[0;34m,\u001b[0m \u001b[0mvalidloader\u001b[0m\u001b[0;34m,\u001b[0m \u001b[0mdevice\u001b[0m\u001b[0;34m)\u001b[0m\u001b[0;34m\u001b[0m\u001b[0;34m\u001b[0m\u001b[0m\n\u001b[0m",
            "\u001b[0;32m/content/nn_utils.py\u001b[0m in \u001b[0;36mfit\u001b[0;34m(n_epochs, criterion, optimizer, model, trainloader, validloader, device)\u001b[0m\n\u001b[1;32m    354\u001b[0m \u001b[0;34m\u001b[0m\u001b[0m\n\u001b[1;32m    355\u001b[0m         \u001b[0mrunning_valid_loss\u001b[0m \u001b[0;34m=\u001b[0m \u001b[0;36m0\u001b[0m\u001b[0;34m\u001b[0m\u001b[0;34m\u001b[0m\u001b[0m\n\u001b[0;32m--> 356\u001b[0;31m         \u001b[0mmodel\u001b[0m\u001b[0;34m.\u001b[0m\u001b[0meval\u001b[0m\u001b[0;34m(\u001b[0m\u001b[0;34m)\u001b[0m\u001b[0;34m\u001b[0m\u001b[0;34m\u001b[0m\u001b[0m\n\u001b[0m\u001b[1;32m    357\u001b[0m         \u001b[0;32mwith\u001b[0m \u001b[0mtorch\u001b[0m\u001b[0;34m.\u001b[0m\u001b[0mno_grad\u001b[0m\u001b[0;34m(\u001b[0m\u001b[0;34m)\u001b[0m\u001b[0;34m:\u001b[0m\u001b[0;34m\u001b[0m\u001b[0;34m\u001b[0m\u001b[0m\n\u001b[1;32m    358\u001b[0m             \u001b[0;32mfor\u001b[0m \u001b[0mx\u001b[0m\u001b[0;34m,\u001b[0m \u001b[0my\u001b[0m \u001b[0;32min\u001b[0m \u001b[0mvalidloader\u001b[0m\u001b[0;34m:\u001b[0m\u001b[0;34m\u001b[0m\u001b[0;34m\u001b[0m\u001b[0m\n",
            "\u001b[0;32m/usr/local/lib/python3.6/dist-packages/torch/optim/adam.py\u001b[0m in \u001b[0;36mstep\u001b[0;34m(self, closure)\u001b[0m\n\u001b[1;32m    105\u001b[0m                 \u001b[0mstep_size\u001b[0m \u001b[0;34m=\u001b[0m \u001b[0mgroup\u001b[0m\u001b[0;34m[\u001b[0m\u001b[0;34m'lr'\u001b[0m\u001b[0;34m]\u001b[0m \u001b[0;34m/\u001b[0m \u001b[0mbias_correction1\u001b[0m\u001b[0;34m\u001b[0m\u001b[0;34m\u001b[0m\u001b[0m\n\u001b[1;32m    106\u001b[0m \u001b[0;34m\u001b[0m\u001b[0m\n\u001b[0;32m--> 107\u001b[0;31m                 \u001b[0mp\u001b[0m\u001b[0;34m.\u001b[0m\u001b[0mdata\u001b[0m\u001b[0;34m.\u001b[0m\u001b[0maddcdiv_\u001b[0m\u001b[0;34m(\u001b[0m\u001b[0;34m-\u001b[0m\u001b[0mstep_size\u001b[0m\u001b[0;34m,\u001b[0m \u001b[0mexp_avg\u001b[0m\u001b[0;34m,\u001b[0m \u001b[0mdenom\u001b[0m\u001b[0;34m)\u001b[0m\u001b[0;34m\u001b[0m\u001b[0;34m\u001b[0m\u001b[0m\n\u001b[0m\u001b[1;32m    108\u001b[0m \u001b[0;34m\u001b[0m\u001b[0m\n\u001b[1;32m    109\u001b[0m         \u001b[0;32mreturn\u001b[0m \u001b[0mloss\u001b[0m\u001b[0;34m\u001b[0m\u001b[0;34m\u001b[0m\u001b[0m\n",
            "\u001b[0;31mKeyboardInterrupt\u001b[0m: "
          ]
        }
      ]
    },
    {
      "cell_type": "code",
      "metadata": {
        "id": "2HprOPCtaPIH",
        "colab_type": "code",
        "colab": {}
      },
      "source": [
        "torch.save(model_drop.state_dict(), 'model_drop.pt')"
      ],
      "execution_count": 0,
      "outputs": []
    },
    {
      "cell_type": "code",
      "metadata": {
        "id": "w0GuJOH3VGGH",
        "colab_type": "code",
        "colab": {}
      },
      "source": [
        "#model_bn_dropout = AE_3d_bn_dropout().to(device)\n",
        "#criterion = nn.MSELoss()\n",
        "optimizer = optim.Adam(model_bn_dropout.parameters(), lr=1e-4, weight_decay=0.0001)"
      ],
      "execution_count": 0,
      "outputs": []
    },
    {
      "cell_type": "code",
      "metadata": {
        "id": "fMbOVsP9VxSB",
        "colab_type": "code",
        "colab": {
          "base_uri": "https://localhost:8080/",
          "height": 139
        },
        "outputId": "c7bde7a3-234a-45a1-e628-bb88cbe9d057"
      },
      "source": [
        "model_bn_dropout, train_losses, valid_losses = fit(5, criterion, optimizer, model_bn_dropout, trainloader, validloader, device)"
      ],
      "execution_count": 51,
      "outputs": [
        {
          "output_type": "stream",
          "text": [
            "Epoch: 1, Training loss: 0.1095821287293194, Validation loss: 0.11421487774930093\n",
            "Validation loss decreased (inf --> 0.11421487774930093).  Saving model ...\n",
            "Epoch: 2, Training loss: 0.10913719898318999, Validation loss: 0.11400134608285924\n",
            "Validation loss decreased (0.11421487774930093 --> 0.11400134608285924).  Saving model ...\n",
            "Epoch: 3, Training loss: 0.1078958154651195, Validation loss: 0.11416777284513281\n",
            "Epoch: 4, Training loss: 0.10929384766094297, Validation loss: 0.1145859849159723\n",
            "Epoch: 5, Training loss: 0.10886714970836929, Validation loss: 0.11493220241224603\n"
          ],
          "name": "stdout"
        }
      ]
    },
    {
      "cell_type": "code",
      "metadata": {
        "id": "cy3lnmG1ajB5",
        "colab_type": "code",
        "colab": {}
      },
      "source": [
        "#The model was trained for 40 epochs total"
      ],
      "execution_count": 0,
      "outputs": []
    },
    {
      "cell_type": "code",
      "metadata": {
        "id": "0EBtXnqvjPNY",
        "colab_type": "code",
        "colab": {}
      },
      "source": [
        "torch.save(model_bn_dropout.state_dict(), 'model_bn_dropout.pt')"
      ],
      "execution_count": 0,
      "outputs": []
    },
    {
      "cell_type": "code",
      "metadata": {
        "id": "LGbhcJqDjo8F",
        "colab_type": "code",
        "colab": {}
      },
      "source": [
        ""
      ],
      "execution_count": 0,
      "outputs": []
    }
  ]
}