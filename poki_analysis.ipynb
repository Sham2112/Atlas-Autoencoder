{
  "nbformat": 4,
  "nbformat_minor": 0,
  "metadata": {
    "colab": {
      "name": "poki_analysis.ipynb",
      "provenance": [],
      "collapsed_sections": [],
      "authorship_tag": "ABX9TyNvAm+pTXmueYcwBNtW8hda",
      "include_colab_link": true
    },
    "kernelspec": {
      "name": "python3",
      "display_name": "Python 3"
    }
  },
  "cells": [
    {
      "cell_type": "markdown",
      "metadata": {
        "id": "view-in-github",
        "colab_type": "text"
      },
      "source": [
        "<a href=\"https://colab.research.google.com/github/Sham2112/Atlas-Autoencoder/blob/master/poki_analysis.ipynb\" target=\"_parent\"><img src=\"https://colab.research.google.com/assets/colab-badge.svg\" alt=\"Open In Colab\"/></a>"
      ]
    },
    {
      "cell_type": "code",
      "metadata": {
        "id": "qwu_UVbtZUus",
        "colab_type": "code",
        "colab": {}
      },
      "source": [
        "import numpy as np\n",
        "import pandas as pd\n",
        "import matplotlib.pyplot as plt\n",
        "import nltk\n",
        "\n",
        "%matplotlib inline"
      ],
      "execution_count": 0,
      "outputs": []
    },
    {
      "cell_type": "code",
      "metadata": {
        "id": "DcqH995mjqV3",
        "colab_type": "code",
        "colab": {
          "base_uri": "https://localhost:8080/",
          "height": 72
        },
        "outputId": "7282a32c-abe0-4c77-f82c-4d2f1f215a38"
      },
      "source": [
        "nltk.download('punkt')"
      ],
      "execution_count": 51,
      "outputs": [
        {
          "output_type": "stream",
          "text": [
            "[nltk_data] Downloading package punkt to /root/nltk_data...\n",
            "[nltk_data]   Unzipping tokenizers/punkt.zip.\n"
          ],
          "name": "stdout"
        },
        {
          "output_type": "execute_result",
          "data": {
            "text/plain": [
              "True"
            ]
          },
          "metadata": {
            "tags": []
          },
          "execution_count": 51
        }
      ]
    },
    {
      "cell_type": "code",
      "metadata": {
        "id": "QFcWZhgQkR4d",
        "colab_type": "code",
        "colab": {
          "base_uri": "https://localhost:8080/",
          "height": 90
        },
        "outputId": "b706f552-ba57-4528-ef12-d6a62fb9095d"
      },
      "source": [
        "nltk.download('averaged_perceptron_tagger')"
      ],
      "execution_count": 55,
      "outputs": [
        {
          "output_type": "stream",
          "text": [
            "[nltk_data] Downloading package averaged_perceptron_tagger to\n",
            "[nltk_data]     /root/nltk_data...\n",
            "[nltk_data]   Unzipping taggers/averaged_perceptron_tagger.zip.\n"
          ],
          "name": "stdout"
        },
        {
          "output_type": "execute_result",
          "data": {
            "text/plain": [
              "True"
            ]
          },
          "metadata": {
            "tags": []
          },
          "execution_count": 55
        }
      ]
    },
    {
      "cell_type": "code",
      "metadata": {
        "id": "19qDkdCQP9Ea",
        "colab_type": "code",
        "colab": {}
      },
      "source": [
        "poki = pd.read_csv('./poki.csv')"
      ],
      "execution_count": 0,
      "outputs": []
    },
    {
      "cell_type": "code",
      "metadata": {
        "id": "Va_E-bRvcFDk",
        "colab_type": "code",
        "colab": {
          "base_uri": "https://localhost:8080/",
          "height": 35
        },
        "outputId": "04ca8464-504e-447f-ab60-1949f4f50c49"
      },
      "source": [
        "len(poki)"
      ],
      "execution_count": 93,
      "outputs": [
        {
          "output_type": "execute_result",
          "data": {
            "text/plain": [
              "61508"
            ]
          },
          "metadata": {
            "tags": []
          },
          "execution_count": 93
        }
      ]
    },
    {
      "cell_type": "code",
      "metadata": {
        "id": "E0otFSNRcGue",
        "colab_type": "code",
        "colab": {
          "base_uri": "https://localhost:8080/",
          "height": 206
        },
        "outputId": "7e9c5eab-c3f7-48ab-f1dd-c470fdc205f6"
      },
      "source": [
        "poki.head()"
      ],
      "execution_count": 94,
      "outputs": [
        {
          "output_type": "execute_result",
          "data": {
            "text/html": [
              "<div>\n",
              "<style scoped>\n",
              "    .dataframe tbody tr th:only-of-type {\n",
              "        vertical-align: middle;\n",
              "    }\n",
              "\n",
              "    .dataframe tbody tr th {\n",
              "        vertical-align: top;\n",
              "    }\n",
              "\n",
              "    .dataframe thead th {\n",
              "        text-align: right;\n",
              "    }\n",
              "</style>\n",
              "<table border=\"1\" class=\"dataframe\">\n",
              "  <thead>\n",
              "    <tr style=\"text-align: right;\">\n",
              "      <th></th>\n",
              "      <th>id</th>\n",
              "      <th>title</th>\n",
              "      <th>author</th>\n",
              "      <th>grade</th>\n",
              "      <th>text</th>\n",
              "      <th>char</th>\n",
              "    </tr>\n",
              "  </thead>\n",
              "  <tbody>\n",
              "    <tr>\n",
              "      <th>0</th>\n",
              "      <td>104987</td>\n",
              "      <td>I Love The Zoo</td>\n",
              "      <td>NaN</td>\n",
              "      <td>1</td>\n",
              "      <td>roses are red,  violets are blue.   i love the...</td>\n",
              "      <td>62</td>\n",
              "    </tr>\n",
              "    <tr>\n",
              "      <th>1</th>\n",
              "      <td>67185</td>\n",
              "      <td>The scary forest.</td>\n",
              "      <td>NaN</td>\n",
              "      <td>1</td>\n",
              "      <td>the forest is really haunted.  i believe it to...</td>\n",
              "      <td>87</td>\n",
              "    </tr>\n",
              "    <tr>\n",
              "      <th>2</th>\n",
              "      <td>103555</td>\n",
              "      <td>A Hike At School</td>\n",
              "      <td>1st grade-wh</td>\n",
              "      <td>1</td>\n",
              "      <td>i took a hike at school today  and this is wha...</td>\n",
              "      <td>324</td>\n",
              "    </tr>\n",
              "    <tr>\n",
              "      <th>3</th>\n",
              "      <td>112483</td>\n",
              "      <td>Computer</td>\n",
              "      <td>a</td>\n",
              "      <td>1</td>\n",
              "      <td>you  can  do  what  you  want  you  can play a...</td>\n",
              "      <td>106</td>\n",
              "    </tr>\n",
              "    <tr>\n",
              "      <th>4</th>\n",
              "      <td>74516</td>\n",
              "      <td>Angel</td>\n",
              "      <td>aab</td>\n",
              "      <td>1</td>\n",
              "      <td>angel oh angle you spin like a top angel oh an...</td>\n",
              "      <td>164</td>\n",
              "    </tr>\n",
              "  </tbody>\n",
              "</table>\n",
              "</div>"
            ],
            "text/plain": [
              "       id  ... char\n",
              "0  104987  ...   62\n",
              "1   67185  ...   87\n",
              "2  103555  ...  324\n",
              "3  112483  ...  106\n",
              "4   74516  ...  164\n",
              "\n",
              "[5 rows x 6 columns]"
            ]
          },
          "metadata": {
            "tags": []
          },
          "execution_count": 94
        }
      ]
    },
    {
      "cell_type": "code",
      "metadata": {
        "id": "GQzm-xKOdCqk",
        "colab_type": "code",
        "colab": {
          "base_uri": "https://localhost:8080/",
          "height": 55
        },
        "outputId": "e4e04b45-e09b-41e0-a1e5-d2e10b770ed9"
      },
      "source": [
        "# Number of poems in each grade and average len of poems by grade\n",
        "grade_count_avlen = {}\n",
        "counts = []\n",
        "av_lengths = []\n",
        "\n",
        "for i in range(1,13):\n",
        "    p = poki[poki['grade'] == i]\n",
        "    count = len(p)\n",
        "    av_len = p['char'].mean()\n",
        "    counts.append(count)\n",
        "    av_lengths.append(av_len)\n",
        "    \n",
        "    grade_count_avlen[i] = (count, av_len)\n",
        "\n",
        "\n",
        "print(grade_count_avlen)"
      ],
      "execution_count": 97,
      "outputs": [
        {
          "output_type": "stream",
          "text": [
            "{1: (904, 189.78097345132744), 2: (3187, 165.94257922811423), 3: (6734, 179.56103356103355), 4: (10939, 201.4369686443002), 5: (11510, 227.7154648132059), 6: (11038, 254.61125203841274), 7: (7842, 306.36355521550627), 8: (4553, 343.7909070942236), 9: (1292, 475.73219814241486), 10: (1176, 476.51445578231295), 11: (667, 532.1124437781109), 12: (1666, 505.3097238895558)}\n"
          ],
          "name": "stdout"
        }
      ]
    },
    {
      "cell_type": "code",
      "metadata": {
        "id": "knR6BcHwfWOq",
        "colab_type": "code",
        "colab": {
          "base_uri": "https://localhost:8080/",
          "height": 286
        },
        "outputId": "802977fc-481a-427c-f4e2-d266d2e28674"
      },
      "source": [
        "#Plotting grade vs no. of characters\n",
        "grades = list(grade_count_avlen.keys())\n",
        "\n",
        "plt.bar(grades, counts)"
      ],
      "execution_count": 98,
      "outputs": [
        {
          "output_type": "execute_result",
          "data": {
            "text/plain": [
              "<BarContainer object of 12 artists>"
            ]
          },
          "metadata": {
            "tags": []
          },
          "execution_count": 98
        },
        {
          "output_type": "display_data",
          "data": {
            "image/png": "[encoded data removed]",
            "text/plain": [
              "<Figure size 432x288 with 1 Axes>"
            ]
          },
          "metadata": {
            "tags": [],
            "needs_background": "light"
          }
        }
      ]
    },
    {
      "cell_type": "code",
      "metadata": {
        "id": "MCmz5eh6gYQa",
        "colab_type": "code",
        "colab": {
          "base_uri": "https://localhost:8080/",
          "height": 283
        },
        "outputId": "fd99e1ce-e5a7-4f47-d103-4495f00b8acf"
      },
      "source": [
        "#plotting grade vs avg. poem length\n",
        "plt.bar(grades, av_lengths)"
      ],
      "execution_count": 99,
      "outputs": [
        {
          "output_type": "execute_result",
          "data": {
            "text/plain": [
              "<BarContainer object of 12 artists>"
            ]
          },
          "metadata": {
            "tags": []
          },
          "execution_count": 99
        },
        {
          "output_type": "display_data",
          "data": {
            "image/png": "[encoded data removed]",
            "text/plain": [
              "<Figure size 432x288 with 1 Axes>"
            ]
          },
          "metadata": {
            "tags": [],
            "needs_background": "light"
          }
        }
      ]
    },
    {
      "cell_type": "code",
      "metadata": {
        "id": "3y-L5ZeQgkvp",
        "colab_type": "code",
        "colab": {}
      },
      "source": [
        "#tokenizing and removing punctuation\n",
        "tokenizer = nltk.RegexpTokenizer(r\"\\w+\")\n",
        "poki['tokenized_text'] = poki['text'].apply(tokenizer.tokenize)"
      ],
      "execution_count": 0,
      "outputs": []
    },
    {
      "cell_type": "code",
      "metadata": {
        "id": "-VACrkuHtfL2",
        "colab_type": "code",
        "colab": {
          "base_uri": "https://localhost:8080/",
          "height": 237
        },
        "outputId": "f8a16dab-24b7-463b-a77d-b4ec7917f65c"
      },
      "source": [
        "poki['tokenized_text'].iloc[0]"
      ],
      "execution_count": 105,
      "outputs": [
        {
          "output_type": "execute_result",
          "data": {
            "text/plain": [
              "['roses',\n",
              " 'are',\n",
              " 'red',\n",
              " 'violets',\n",
              " 'are',\n",
              " 'blue',\n",
              " 'i',\n",
              " 'love',\n",
              " 'the',\n",
              " 'zoo',\n",
              " 'do',\n",
              " 'you']"
            ]
          },
          "metadata": {
            "tags": []
          },
          "execution_count": 105
        }
      ]
    },
    {
      "cell_type": "code",
      "metadata": {
        "id": "xzd4jKK0jlRL",
        "colab_type": "code",
        "colab": {}
      },
      "source": [
        "#calculating the pos tag count vs grade\n",
        "grade_pos_count = {}\n",
        "\n",
        "for i in range(1,13):\n",
        "    p = poki[poki['grade'] == i]   \n",
        "    pos_tag_count = {}\n",
        "    p1 = p['tokenized_text']\n",
        "\n",
        "    for index, tokens in p1.items():\n",
        "        for w, p in nltk.pos_tag(tokens):\n",
        "            if p in pos_tag_count.keys():\n",
        "                pos_tag_count[p] += 1\n",
        "            else:\n",
        "                pos_tag_count[p] = 1\n",
        "    \n",
        "    grade_pos_count[i] = pos_tag_count"
      ],
      "execution_count": 0,
      "outputs": []
    },
    {
      "cell_type": "code",
      "metadata": {
        "id": "Wdmxv14hluKf",
        "colab_type": "code",
        "colab": {
          "base_uri": "https://localhost:8080/",
          "height": 301
        },
        "outputId": "d174d6b2-9702-4e16-f456-640e06d8db30"
      },
      "source": [
        "#plotting the pos tags for grades 1 and 12\n",
        "plt.xticks(rotation='vertical')\n",
        "plt.bar(grade_pos_count[1].keys(), grade_pos_count[1].values())"
      ],
      "execution_count": 110,
      "outputs": [
        {
          "output_type": "execute_result",
          "data": {
            "text/plain": [
              "<BarContainer object of 33 artists>"
            ]
          },
          "metadata": {
            "tags": []
          },
          "execution_count": 110
        },
        {
          "output_type": "display_data",
          "data": {
            "image/png": "[encoded data removed]",
            "text/plain": [
              "<Figure size 432x288 with 1 Axes>"
            ]
          },
          "metadata": {
            "tags": [],
            "needs_background": "light"
          }
        }
      ]
    },
    {
      "cell_type": "code",
      "metadata": {
        "id": "RBGcxdemqJYH",
        "colab_type": "code",
        "colab": {
          "base_uri": "https://localhost:8080/",
          "height": 301
        },
        "outputId": "486ba941-dcd1-45a5-84ef-14c7fc4b0390"
      },
      "source": [
        "plt.xticks(rotation='vertical')\n",
        "plt.bar(grade_pos_count[12].keys(), grade_pos_count[12].values())"
      ],
      "execution_count": 111,
      "outputs": [
        {
          "output_type": "execute_result",
          "data": {
            "text/plain": [
              "<BarContainer object of 34 artists>"
            ]
          },
          "metadata": {
            "tags": []
          },
          "execution_count": 111
        },
        {
          "output_type": "display_data",
          "data": {
            "image/png": "[encoded data removed]",
            "text/plain": [
              "<Figure size 432x288 with 1 Axes>"
            ]
          },
          "metadata": {
            "tags": [],
            "needs_background": "light"
          }
        }
      ]
    },
    {
      "cell_type": "code",
      "metadata": {
        "id": "VtNUbWqezJFh",
        "colab_type": "code",
        "colab": {}
      },
      "source": [
        "#Now lets analyze the poki-analysis dataset\n",
        "#the authors of the dataset explain their methods in this paper - (https://arxiv.org/pdf/2004.06188.pdf)\n",
        "pa = pd.read_csv('poki-analysis.csv')"
      ],
      "execution_count": 0,
      "outputs": []
    },
    {
      "cell_type": "code",
      "metadata": {
        "id": "ojNjcJ3iz0mo",
        "colab_type": "code",
        "colab": {
          "base_uri": "https://localhost:8080/",
          "height": 226
        },
        "outputId": "6a4c897c-0c50-428c-ec50-fd5c692461ee"
      },
      "source": [
        "pa.head()"
      ],
      "execution_count": 127,
      "outputs": [
        {
          "output_type": "execute_result",
          "data": {
            "text/html": [
              "<div>\n",
              "<style scoped>\n",
              "    .dataframe tbody tr th:only-of-type {\n",
              "        vertical-align: middle;\n",
              "    }\n",
              "\n",
              "    .dataframe tbody tr th {\n",
              "        vertical-align: top;\n",
              "    }\n",
              "\n",
              "    .dataframe thead th {\n",
              "        text-align: right;\n",
              "    }\n",
              "</style>\n",
              "<table border=\"1\" class=\"dataframe\">\n",
              "  <thead>\n",
              "    <tr style=\"text-align: right;\">\n",
              "      <th></th>\n",
              "      <th>id</th>\n",
              "      <th>grade</th>\n",
              "      <th>author</th>\n",
              "      <th>val_sd</th>\n",
              "      <th>aro_sd</th>\n",
              "      <th>dom_sd</th>\n",
              "      <th>anger_sd</th>\n",
              "      <th>fear_sd</th>\n",
              "      <th>sadness_sd</th>\n",
              "      <th>joy_sd</th>\n",
              "      <th>valence</th>\n",
              "      <th>arousal</th>\n",
              "      <th>dominance</th>\n",
              "      <th>anger</th>\n",
              "      <th>fear</th>\n",
              "      <th>sadness</th>\n",
              "      <th>joy</th>\n",
              "      <th>total_words</th>\n",
              "      <th>gender</th>\n",
              "    </tr>\n",
              "  </thead>\n",
              "  <tbody>\n",
              "    <tr>\n",
              "      <th>0</th>\n",
              "      <td>13985</td>\n",
              "      <td>4</td>\n",
              "      <td>melissa</td>\n",
              "      <td>0.232184</td>\n",
              "      <td>0.121740</td>\n",
              "      <td>0.288507</td>\n",
              "      <td>NaN</td>\n",
              "      <td>NaN</td>\n",
              "      <td>NaN</td>\n",
              "      <td>NaN</td>\n",
              "      <td>0.596833</td>\n",
              "      <td>0.362667</td>\n",
              "      <td>0.442000</td>\n",
              "      <td>NaN</td>\n",
              "      <td>NaN</td>\n",
              "      <td>0.844</td>\n",
              "      <td>NaN</td>\n",
              "      <td>6</td>\n",
              "      <td>Female</td>\n",
              "    </tr>\n",
              "    <tr>\n",
              "      <th>1</th>\n",
              "      <td>13987</td>\n",
              "      <td>5</td>\n",
              "      <td>nadia</td>\n",
              "      <td>0.293415</td>\n",
              "      <td>0.193891</td>\n",
              "      <td>0.194279</td>\n",
              "      <td>NaN</td>\n",
              "      <td>NaN</td>\n",
              "      <td>NaN</td>\n",
              "      <td>NaN</td>\n",
              "      <td>0.604000</td>\n",
              "      <td>0.410400</td>\n",
              "      <td>0.473800</td>\n",
              "      <td>NaN</td>\n",
              "      <td>NaN</td>\n",
              "      <td>NaN</td>\n",
              "      <td>0.788000</td>\n",
              "      <td>5</td>\n",
              "      <td>Female</td>\n",
              "    </tr>\n",
              "    <tr>\n",
              "      <th>2</th>\n",
              "      <td>13989</td>\n",
              "      <td>3</td>\n",
              "      <td>brandon</td>\n",
              "      <td>0.328506</td>\n",
              "      <td>0.255830</td>\n",
              "      <td>0.172985</td>\n",
              "      <td>NaN</td>\n",
              "      <td>0.131522</td>\n",
              "      <td>NaN</td>\n",
              "      <td>0.231863</td>\n",
              "      <td>0.487000</td>\n",
              "      <td>0.501000</td>\n",
              "      <td>0.507875</td>\n",
              "      <td>NaN</td>\n",
              "      <td>0.869</td>\n",
              "      <td>0.797</td>\n",
              "      <td>0.306667</td>\n",
              "      <td>8</td>\n",
              "      <td>Male</td>\n",
              "    </tr>\n",
              "    <tr>\n",
              "      <th>3</th>\n",
              "      <td>13990</td>\n",
              "      <td>5</td>\n",
              "      <td>jannat</td>\n",
              "      <td>0.208608</td>\n",
              "      <td>0.186677</td>\n",
              "      <td>0.169186</td>\n",
              "      <td>NaN</td>\n",
              "      <td>NaN</td>\n",
              "      <td>NaN</td>\n",
              "      <td>0.375474</td>\n",
              "      <td>0.587600</td>\n",
              "      <td>0.349400</td>\n",
              "      <td>0.410100</td>\n",
              "      <td>NaN</td>\n",
              "      <td>NaN</td>\n",
              "      <td>NaN</td>\n",
              "      <td>0.515500</td>\n",
              "      <td>10</td>\n",
              "      <td>Female</td>\n",
              "    </tr>\n",
              "    <tr>\n",
              "      <th>4</th>\n",
              "      <td>13992</td>\n",
              "      <td>5</td>\n",
              "      <td>blake</td>\n",
              "      <td>0.207633</td>\n",
              "      <td>0.181070</td>\n",
              "      <td>0.145530</td>\n",
              "      <td>NaN</td>\n",
              "      <td>NaN</td>\n",
              "      <td>NaN</td>\n",
              "      <td>0.178011</td>\n",
              "      <td>0.723800</td>\n",
              "      <td>0.530800</td>\n",
              "      <td>0.604100</td>\n",
              "      <td>NaN</td>\n",
              "      <td>NaN</td>\n",
              "      <td>0.016</td>\n",
              "      <td>0.456000</td>\n",
              "      <td>10</td>\n",
              "      <td>Ambiguous</td>\n",
              "    </tr>\n",
              "  </tbody>\n",
              "</table>\n",
              "</div>"
            ],
            "text/plain": [
              "      id  grade   author    val_sd  ...  sadness       joy  total_words     gender\n",
              "0  13985      4  melissa  0.232184  ...    0.844       NaN            6     Female\n",
              "1  13987      5    nadia  0.293415  ...      NaN  0.788000            5     Female\n",
              "2  13989      3  brandon  0.328506  ...    0.797  0.306667            8       Male\n",
              "3  13990      5   jannat  0.208608  ...      NaN  0.515500           10     Female\n",
              "4  13992      5    blake  0.207633  ...    0.016  0.456000           10  Ambiguous\n",
              "\n",
              "[5 rows x 19 columns]"
            ]
          },
          "metadata": {
            "tags": []
          },
          "execution_count": 127
        }
      ]
    },
    {
      "cell_type": "code",
      "metadata": {
        "id": "3GzK7AYH3y1n",
        "colab_type": "code",
        "colab": {
          "base_uri": "https://localhost:8080/",
          "height": 257
        },
        "outputId": "1b4c8598-cb2f-4ad5-9a0a-d2d8cfea57fa"
      },
      "source": [
        "#What is the average value of emotions based by grade\n",
        "for i in range(1,13):\n",
        "    p = pa[pa['grade'] == i]\n",
        "    print(\"Grade: {} Avg-  valence: {} dominance: {} arousal: {} anger: {} fear: {} sadness: {} joy: {}\".format(i, p['valence'].mean(), p['dominance'].mean(), p['arousal'].mean(), p['anger'].mean(), p['fear'].mean(), p['sadness'].mean(), p['joy'].mean() ))"
      ],
      "execution_count": 149,
      "outputs": [
        {
          "output_type": "stream",
          "text": [
            "Grade: 1 Avg-  valence: 0.6428100122499371 dominance: 0.4741460874967719 arousal: 0.4293801109407898 anger: 0.38710355149236736 fear: 0.4104694451185709 sadness: 0.3815041119303367 joy: 0.45789455267146756\n",
            "Grade: 2 Avg-  valence: 0.6454022598310369 dominance: 0.47791349439581887 arousal: 0.4404008096857872 anger: 0.4117131836522121 fear: 0.44776858421976246 sadness: 0.37061885893461227 joy: 0.47319686599709143\n",
            "Grade: 3 Avg-  valence: 0.6403088145093544 dominance: 0.4793301276024067 arousal: 0.4446098202022696 anger: 0.43401660612988396 fear: 0.4492104950884353 sadness: 0.37869770687541987 joy: 0.47996252594414873\n",
            "Grade: 4 Avg-  valence: 0.631336435945938 dominance: 0.47819406308666335 arousal: 0.4436896742766678 anger: 0.4370781458836087 fear: 0.4622497064493364 sadness: 0.3926023200544331 joy: 0.47518463175101633\n",
            "Grade: 5 Avg-  valence: 0.6276024437609699 dominance: 0.482412499149096 arousal: 0.4484972118265145 anger: 0.4409443894005411 fear: 0.4555928744118296 sadness: 0.40465650976812684 joy: 0.4818485103810253\n",
            "Grade: 6 Avg-  valence: 0.6305691613499668 dominance: 0.4901002094914376 arousal: 0.4510548653661796 anger: 0.44670105064684773 fear: 0.4606576533074701 sadness: 0.41508435542958505 joy: 0.49220156997691755\n",
            "Grade: 7 Avg-  valence: 0.6263737823863146 dominance: 0.4941934190044071 arousal: 0.4521969377310554 anger: 0.4523786646354538 fear: 0.4617508768877537 sadness: 0.43368238053315944 joy: 0.4906275391298138\n",
            "Grade: 8 Avg-  valence: 0.6204948678076163 dominance: 0.49220631595584524 arousal: 0.4481891574886233 anger: 0.45202887476105236 fear: 0.47315096603481527 sadness: 0.43740236403648364 joy: 0.49480912963312\n",
            "Grade: 9 Avg-  valence: 0.617514648805951 dominance: 0.5067967905135247 arousal: 0.4593258928263772 anger: 0.4569182353363485 fear: 0.49236016144328704 sadness: 0.4785330959346367 joy: 0.5169531825033626\n",
            "Grade: 10 Avg-  valence: 0.6136425949585618 dominance: 0.5059551567284748 arousal: 0.45631888759351646 anger: 0.4581791063358293 fear: 0.4775938441558755 sadness: 0.4650716133539317 joy: 0.5056164501782109\n",
            "Grade: 11 Avg-  valence: 0.6136525919641143 dominance: 0.5077104363958007 arousal: 0.45993492830990906 anger: 0.46169834902495266 fear: 0.47906413738540304 sadness: 0.4777406040836601 joy: 0.5044408235216665\n",
            "Grade: 12 Avg-  valence: 0.6199256586783343 dominance: 0.5081989148762799 arousal: 0.45676491852729223 anger: 0.4491453435434664 fear: 0.46533935250586445 sadness: 0.4682266644452211 joy: 0.5137651234618245\n"
          ],
          "name": "stdout"
        }
      ]
    },
    {
      "cell_type": "code",
      "metadata": {
        "id": "o-PTqwfp0EYA",
        "colab_type": "code",
        "colab": {}
      },
      "source": [
        "#Lets calculate the mean valence and std vs grade for each gender gender (ignoring Ambigious and NA genders for now)\n",
        "fem_val_mu = {}\n",
        "men_val_mu = {}\n",
        "fem_val_sd = {}\n",
        "men_val_sd = {}\n",
        "\n",
        "for i in range(1, 13):\n",
        "    p = pa[pa['grade'] == i]\n",
        "    f = p[p['gender'] == 'Female']\n",
        "    m = p[p['gender'] == 'Male']\n",
        "\n",
        "    fem_val_mu[i] = f['valence'].mean()\n",
        "    fem_val_sd[i] = f['val_sd'].mean()\n",
        "    men_val_mu[i] = m['valence'].mean()\n",
        "    men_val_sd[i] = m['val_sd'].mean()"
      ],
      "execution_count": 0,
      "outputs": []
    },
    {
      "cell_type": "code",
      "metadata": {
        "id": "8VnYzjKG1kl-",
        "colab_type": "code",
        "colab": {
          "base_uri": "https://localhost:8080/",
          "height": 35
        },
        "outputId": "06dc3c1a-0802-495c-d1da-628d73650f4d"
      },
      "source": [
        "men_val_sd[1]"
      ],
      "execution_count": 142,
      "outputs": [
        {
          "output_type": "execute_result",
          "data": {
            "text/plain": [
              "0.18270840668246294"
            ]
          },
          "metadata": {
            "tags": []
          },
          "execution_count": 142
        }
      ]
    },
    {
      "cell_type": "code",
      "metadata": {
        "id": "X8Uyu-jo1FfL",
        "colab_type": "code",
        "colab": {
          "base_uri": "https://localhost:8080/",
          "height": 283
        },
        "outputId": "7a2b092a-c95b-4e06-8b8a-65c86250c724"
      },
      "source": [
        "#Lets plot the mean and std of each grade\n",
        "plt.errorbar(men_val_mu.keys(), men_val_mu.values(), yerr=men_val_sd.values(), linestyle='None', marker='^')"
      ],
      "execution_count": 146,
      "outputs": [
        {
          "output_type": "execute_result",
          "data": {
            "text/plain": [
              "<ErrorbarContainer object of 3 artists>"
            ]
          },
          "metadata": {
            "tags": []
          },
          "execution_count": 146
        },
        {
          "output_type": "display_data",
          "data": {
            "image/png": "[encoded data removed]",
            "text/plain": [
              "<Figure size 432x288 with 1 Axes>"
            ]
          },
          "metadata": {
            "tags": [],
            "needs_background": "light"
          }
        }
      ]
    },
    {
      "cell_type": "code",
      "metadata": {
        "id": "KGxU4C_T2kw3",
        "colab_type": "code",
        "colab": {
          "base_uri": "https://localhost:8080/",
          "height": 283
        },
        "outputId": "400d74db-2848-4bd6-d97c-93ed21c438bd"
      },
      "source": [
        "plt.errorbar(fem_val_mu.keys(), fem_val_mu.values(), yerr=fem_val_sd.values(), linestyle='None', marker='^', color='red')"
      ],
      "execution_count": 147,
      "outputs": [
        {
          "output_type": "execute_result",
          "data": {
            "text/plain": [
              "<ErrorbarContainer object of 3 artists>"
            ]
          },
          "metadata": {
            "tags": []
          },
          "execution_count": 147
        },
        {
          "output_type": "display_data",
          "data": {
            "image/png": "[encoded data removed]",
            "text/plain": [
              "<Figure size 432x288 with 1 Axes>"
            ]
          },
          "metadata": {
            "tags": [],
            "needs_background": "light"
          }
        }
      ]
    },
    {
      "cell_type": "code",
      "metadata": {
        "id": "EcfpREMD3eYH",
        "colab_type": "code",
        "colab": {}
      },
      "source": [
        ""
      ],
      "execution_count": 0,
      "outputs": []
    }
  ]
}